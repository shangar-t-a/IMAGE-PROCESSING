{
 "cells": [
  {
   "cell_type": "markdown",
   "metadata": {},
   "source": [
    "# BASICS OF IMAGE PROCESSING USING PYTHON PART 1 (PIL and np)"
   ]
  },
  {
   "cell_type": "markdown",
   "metadata": {},
   "source": [
    "__WORK ENVIRONMENTS__\n",
    "\n",
    "    Anaconda\n",
    "    Python 3\n",
    "    Spyder\n",
    "    Jupyter\n",
    "    \n",
    "__LIBRARIES USED__\n",
    "\n",
    "    PIL\n",
    "    numpy\n",
    "    OpenCv (cv2)\n",
    "    Matplotlib\n",
    "    keras"
   ]
  },
  {
   "cell_type": "markdown",
   "metadata": {},
   "source": [
    "## VIEWING AN IMAGE\n",
    "\n",
    "    1) import necessary libraries\n",
    "        a. numpy\n",
    "        b. PIL\n",
    "    \n",
    "    2) open file location\n",
    "\n",
    "    3) show image"
   ]
  },
  {
   "cell_type": "code",
   "execution_count": null,
   "metadata": {},
   "outputs": [],
   "source": [
    "import numpy as np\n",
    "from PIL import Image\n",
    "\n",
    "FilePath = 'rose.jpg'\n",
    "\n",
    "img = Image.open(FilePath)\n",
    "\n",
    "print('Image format: ', img.format)\n",
    "print('Image mode: ', img.mode)\n",
    "\n",
    "img.show()"
   ]
  },
  {
   "cell_type": "markdown",
   "metadata": {},
   "source": [
    "## CONVERT an IMAGE to NP ARRAY\n",
    "\n",
    "    1) import necessary libraries\n",
    "    2) convert image format to numpy array\n",
    "    3) inspect necessary information\n",
    "\n",
    "Once the data is in nparray format, we can apply any operations. Treating the nparray data as n-dimension matrices.\n",
    "When we are done working with the data (doing data cleansing & transformation for example), we can convert the data (in nparray format) back to image format. "
   ]
  },
  {
   "cell_type": "code",
   "execution_count": 2,
   "metadata": {},
   "outputs": [
    {
     "name": "stdout",
     "output_type": "stream",
     "text": [
      "data type:  <class 'numpy.ndarray'>\n",
      "data shape:  (183, 275, 3)\n"
     ]
    }
   ],
   "source": [
    "from numpy import asarray\n",
    "\n",
    "data = asarray(img)\n",
    "\n",
    "print('data type: ', type(data))\n",
    "print('data shape: ', data.shape)"
   ]
  },
  {
   "cell_type": "code",
   "execution_count": 3,
   "metadata": {},
   "outputs": [
    {
     "name": "stdout",
     "output_type": "stream",
     "text": [
      "[[[120 125 145]\n",
      "  [120 125 145]\n",
      "  [121 126 146]\n",
      "  ...\n",
      "  [ 65  65  67]\n",
      "  [ 67  67  69]\n",
      "  [ 70  70  72]]\n",
      "\n",
      " [[120 125 145]\n",
      "  [120 125 145]\n",
      "  [121 126 146]\n",
      "  ...\n",
      "  [ 65  65  67]\n",
      "  [ 67  67  69]\n",
      "  [ 70  70  72]]\n",
      "\n",
      " [[119 124 144]\n",
      "  [120 125 145]\n",
      "  [120 125 145]\n",
      "  ...\n",
      "  [ 64  64  66]\n",
      "  [ 66  66  68]\n",
      "  [ 70  70  72]]\n",
      "\n",
      " ...\n",
      "\n",
      " [[110 116 138]\n",
      "  [110 116 138]\n",
      "  [111 117 141]\n",
      "  ...\n",
      "  [ 79  81  93]\n",
      "  [ 79  81  93]\n",
      "  [ 78  80  92]]\n",
      "\n",
      " [[109 115 137]\n",
      "  [110 116 138]\n",
      "  [110 116 140]\n",
      "  ...\n",
      "  [ 79  81  93]\n",
      "  [ 79  81  93]\n",
      "  [ 78  80  92]]\n",
      "\n",
      " [[109 115 137]\n",
      "  [109 115 137]\n",
      "  [110 116 140]\n",
      "  ...\n",
      "  [ 79  81  93]\n",
      "  [ 79  81  93]\n",
      "  [ 78  80  92]]]\n"
     ]
    }
   ],
   "source": [
    "#print the data\n",
    "\n",
    "print(data)"
   ]
  },
  {
   "cell_type": "markdown",
   "metadata": {},
   "source": [
    "## CONVERT NP ARRAY back to IMAGE format"
   ]
  },
  {
   "cell_type": "code",
   "execution_count": 4,
   "metadata": {},
   "outputs": [
    {
     "name": "stdout",
     "output_type": "stream",
     "text": [
      "Image size:  (275, 183)\n",
      "Image format:  None\n",
      "Image mode:  RGB\n"
     ]
    }
   ],
   "source": [
    "img_fromnparray = Image.fromarray(data)\n",
    "\n",
    "img_fromnparray.show()\n",
    "\n",
    "print('Image size: ', img_fromnparray.size)\n",
    "print('Image format: ', img_fromnparray.format)\n",
    "print('Image mode: ', img_fromnparray.mode)"
   ]
  },
  {
   "cell_type": "markdown",
   "metadata": {},
   "source": [
    "## SAVE the IMAGE to ANOTHER FORMAT, e.g. PNG (source was JPG before)\n",
    "\n",
    "    1) 1st reopen image, and save is as PNG  \n",
    "    2) 2nd reopen image and convert it to grey, and save is as PNG"
   ]
  },
  {
   "cell_type": "code",
   "execution_count": 5,
   "metadata": {},
   "outputs": [
    {
     "name": "stdout",
     "output_type": "stream",
     "text": [
      "Saving as PNG (RGB)... Image Processing/rose\n",
      "<class 'numpy.ndarray'> (183, 275, 3)\n",
      "Saving as PNG (Grey)... Image Processing/rose\n",
      "<class 'numpy.ndarray'> (183, 275)\n"
     ]
    }
   ],
   "source": [
    "data = asarray(Image.open(FilePath))\n",
    "print(\"Saving as PNG (RGB)...\",  \"Image Processing/rose\")\n",
    "\n",
    "print(type(data), data.shape)\n",
    "\n",
    "img_png = Image.fromarray(data).save('rose' + '-rgb' + '.png')\n",
    "\n",
    "\n",
    "data = asarray(Image.open(FilePath).convert('L'))\n",
    "print(\"Saving as PNG (Grey)...\", \"Image Processing/rose\")\n",
    "\n",
    "print(type(data), data.shape)\n",
    "\n",
    "img_png = Image.fromarray(data).save('rose' + '-grey' + '.png')"
   ]
  }
 ],
 "metadata": {
  "kernelspec": {
   "display_name": "Python 3",
   "language": "python",
   "name": "python3"
  },
  "language_info": {
   "codemirror_mode": {
    "name": "ipython",
    "version": 3
   },
   "file_extension": ".py",
   "mimetype": "text/x-python",
   "name": "python",
   "nbconvert_exporter": "python",
   "pygments_lexer": "ipython3",
   "version": "3.7.3"
  }
 },
 "nbformat": 4,
 "nbformat_minor": 2
}
