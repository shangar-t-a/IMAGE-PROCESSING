{
 "cells": [
  {
   "cell_type": "markdown",
   "metadata": {},
   "source": [
    "# BASICS OF IMAGE PROCESSING USING PYTHON (KERAS)"
   ]
  },
  {
   "cell_type": "markdown",
   "metadata": {},
   "source": [
    "## IMAGE PRE PROCESSING USING KERAS\n",
    "\n",
    "    first import necessary libraries\n",
    "    load and view the image"
   ]
  },
  {
   "cell_type": "code",
   "execution_count": 2,
   "metadata": {},
   "outputs": [
    {
     "name": "stdout",
     "output_type": "stream",
     "text": [
      "Image type: <class 'PIL.JpegImagePlugin.JpegImageFile'> , image format: JPEG , image mode: RGB , image size: (275, 183)\n"
     ]
    }
   ],
   "source": [
    "from keras.preprocessing.image import load_img\n",
    "import warnings\n",
    "\n",
    "FilePath = 'rose.jpg'\n",
    "\n",
    "img = load_img(FilePath)\n",
    "\n",
    "print('Image type:', type(img), ', image format:', img.format, ', image mode:', img.mode, ', image size:', img.size)\n",
    "\n",
    "img.show()"
   ]
  },
  {
   "cell_type": "markdown",
   "metadata": {},
   "source": [
    "## CONVERT the IMAGE to NUMPY ARRAY"
   ]
  },
  {
   "cell_type": "code",
   "execution_count": 3,
   "metadata": {},
   "outputs": [
    {
     "name": "stdout",
     "output_type": "stream",
     "text": [
      "Original type of image: <class 'PIL.JpegImagePlugin.JpegImageFile'>\n",
      "Numpy array info: <class 'numpy.ndarray'>\n",
      "type: <class 'numpy.dtype'>\n",
      "shape: <class 'tuple'>\n"
     ]
    }
   ],
   "source": [
    "from keras.preprocessing.image import img_to_array, array_to_img\n",
    "print('Original type of image:', type(img))\n",
    "\n",
    "img_nparray = img_to_array(img)\n",
    "\n",
    "print('Numpy array info:', type(img_nparray))\n",
    "print('type:', type(img_nparray.dtype))\n",
    "print('shape:', type(img_nparray.shape))\n",
    "\n",
    "#print(img_nparray)"
   ]
  },
  {
   "cell_type": "markdown",
   "metadata": {},
   "source": [
    "## SAVING an image with keras LOADING an image with keras"
   ]
  },
  {
   "cell_type": "code",
   "execution_count": 4,
   "metadata": {},
   "outputs": [
    {
     "name": "stdout",
     "output_type": "stream",
     "text": [
      "Converted (back) type of the image: <class 'PIL.Image.Image'>\n",
      "Saving Image File with Keras... rose\n",
      "Loading Image File with Keras... rose\n",
      "Image type: <class 'PIL.PngImagePlugin.PngImageFile'> , image format: PNG , image mode: RGB , image size: (275, 183)\n"
     ]
    }
   ],
   "source": [
    "img_pil = array_to_img(img_nparray)\n",
    "print(\"Converted (back) type of the image:\", type(img_pil))\n",
    "\n",
    "from keras.preprocessing.image import load_img, save_img\n",
    "ImageFile = 'rose' + '_keras' + '.png'\n",
    "print(\"Saving Image File with Keras...\", \"rose\")\n",
    "\n",
    "save_img(ImageFile, img_nparray)\n",
    "print(\"Loading Image File with Keras...\", \"rose\")\n",
    "img = load_img(ImageFile)\n",
    "print('Image type:', type(img), ', image format:', img.format, ', image mode:', img.mode, ', image size:', img.size)\n",
    "\n",
    "img.show()"
   ]
  },
  {
   "cell_type": "markdown",
   "metadata": {},
   "source": [
    "## Do image flip (Horizontal)"
   ]
  },
  {
   "cell_type": "code",
   "execution_count": 5,
   "metadata": {},
   "outputs": [],
   "source": [
    "from keras.preprocessing.image import load_img, save_img\n",
    "from keras.preprocessing.image import ImageDataGenerator\n",
    "\n",
    "img = load_img(FilePath)\n",
    "img_nparray = img_to_array(img)\n",
    "Datagen = ImageDataGenerator()\n",
    "flip_horizontal = Datagen.apply_transform(x=img_nparray, transform_parameters={'flip_horizontal':True})\n",
    "array_to_img(flip_horizontal).show()"
   ]
  },
  {
   "cell_type": "markdown",
   "metadata": {},
   "source": [
    "## Do image flip (Vertical)"
   ]
  },
  {
   "cell_type": "code",
   "execution_count": 6,
   "metadata": {},
   "outputs": [],
   "source": [
    "flip_vertical = Datagen.apply_transform(x=img_nparray, transform_parameters={'flip_vertical':True})\n",
    "array_to_img(flip_vertical).show()"
   ]
  }
 ],
 "metadata": {
  "kernelspec": {
   "display_name": "Python 3",
   "language": "python",
   "name": "python3"
  },
  "language_info": {
   "codemirror_mode": {
    "name": "ipython",
    "version": 3
   },
   "file_extension": ".py",
   "mimetype": "text/x-python",
   "name": "python",
   "nbconvert_exporter": "python",
   "pygments_lexer": "ipython3",
   "version": "3.7.3"
  }
 },
 "nbformat": 4,
 "nbformat_minor": 2
}
